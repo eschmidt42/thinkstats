{
 "cells": [
  {
   "cell_type": "code",
   "execution_count": 170,
   "metadata": {},
   "outputs": [],
   "source": [
    "# default_exp hypothesis_testing"
   ]
  },
  {
   "cell_type": "markdown",
   "metadata": {},
   "source": [
    "# Hypothesis testing\n",
    "> How to practically compare aspects of two distributions"
   ]
  },
  {
   "cell_type": "code",
   "execution_count": 171,
   "metadata": {},
   "outputs": [
    {
     "name": "stdout",
     "output_type": "stream",
     "text": [
      "The autoreload extension is already loaded. To reload it, use:\n",
      "  %reload_ext autoreload\n"
     ]
    }
   ],
   "source": [
    "#hide\n",
    "%matplotlib inline\n",
    "%load_ext autoreload\n",
    "%autoreload 2"
   ]
  },
  {
   "cell_type": "code",
   "execution_count": 172,
   "metadata": {},
   "outputs": [],
   "source": [
    "#export\n",
    "import matplotlib.pyplot as plt\n",
    "import matplotlib as mpl\n",
    "import numpy as np\n",
    "from scipy import stats\n",
    "import pandas as pd\n",
    "\n",
    "from thinkstats import basic_stats\n",
    "from thinkstats import nsfg"
   ]
  },
  {
   "cell_type": "code",
   "execution_count": 173,
   "metadata": {},
   "outputs": [],
   "source": [
    "#hide\n",
    "mpl.style.use(\"bmh\")"
   ]
  },
  {
   "cell_type": "markdown",
   "metadata": {},
   "source": [
    "**Basic steps for the investigation**\n",
    "1. calc *test statistic*: e.g. coin of interest is biased ($p \\ne 0.5$)\n",
    "2. define *null hypothesis*: e.g. if the coin were unbiased / fair we would have $p = 0.5$)\n",
    "3. compute the *p-value*\n",
    "\n",
    "The core of the p-value is to estimate how probable an aspect of an observed dataset is. The aspect is the *test statistic*, like the mean occurrences of heads in a series of coin tosses. To retrieve the p-value we compute the test statistic for the observed dataset and for a lot of perturbed version of the dataset. Then we can quantify how rare the value for the test statistic we calculated for the observed, unperturbed, dataset really is.\n",
    "\n",
    "What I find needs a bit of getting used to is to figure out how to perturb the dataset properly. To apply this to various practical situations one may need quite a bit of experience. In the first example below we want to verify if two coins deviate from oneanother in their fairness. So our test statistic is the difference of the share of obtained heads. We define our hypothesis as: the two coins are equally fair. To verify this we perturb our dataset of the coin tosses of both coins by repeatedly, `n_test` times, mixing their results up and computing the test statistic. We do this because of both coins are equally fair the mixing up shouldn't matter. This way we can gauge where in the distribution of the test statistic for the mixed up datasets the test statistic of the original dataset lies. If we want to know how much more biased towards heads coin 1 is than coin 0 we only need to compute the cumulative density function over the test statistics from the mixups and find the probability (left tail only) for the test statistic of the original dataset. If we want to know about general deviation in fairness we need to consider both sides of the distribution of the test statistics from the mixups."
   ]
  },
  {
   "cell_type": "markdown",
   "metadata": {},
   "source": [
    "## Synthetic data"
   ]
  },
  {
   "cell_type": "markdown",
   "metadata": {},
   "source": [
    "### Discrete - Bernoulli $p$"
   ]
  },
  {
   "cell_type": "markdown",
   "metadata": {},
   "source": [
    "Defining generative distributions for population 0 and 1"
   ]
  },
  {
   "cell_type": "code",
   "execution_count": 174,
   "metadata": {},
   "outputs": [],
   "source": [
    "pop0_gen = stats.bernoulli(p=.5)\n",
    "pop1_gen = stats.bernoulli(p=.7)"
   ]
  },
  {
   "cell_type": "markdown",
   "metadata": {},
   "source": [
    "Number of samples to generate for each population"
   ]
  },
  {
   "cell_type": "code",
   "execution_count": 175,
   "metadata": {},
   "outputs": [],
   "source": [
    "n0 = 100\n",
    "n1 = 120"
   ]
  },
  {
   "cell_type": "markdown",
   "metadata": {},
   "source": [
    "Generating the populations"
   ]
  },
  {
   "cell_type": "code",
   "execution_count": 176,
   "metadata": {},
   "outputs": [
    {
     "data": {
      "text/plain": [
       "(array([0, 1, 1, 0, 1]), array([0, 1, 1, 0, 1]))"
      ]
     },
     "execution_count": 176,
     "metadata": {},
     "output_type": "execute_result"
    }
   ],
   "source": [
    "samples0 = pop0_gen.rvs(size=n0)\n",
    "samples1 = pop1_gen.rvs(size=n0)\n",
    "samples0[:5], samples1[:5]"
   ]
  },
  {
   "cell_type": "markdown",
   "metadata": {},
   "source": [
    "We claim (hypothesis) the two coins `pop0_gen` and `pop1_gen` do not deviate from each other in their fairness → test statistic is the difference of their means"
   ]
  },
  {
   "cell_type": "code",
   "execution_count": 177,
   "metadata": {},
   "outputs": [],
   "source": [
    "#export\n",
    "def get_mean_test_statistic(a:np.ndarray, b: np.ndarray) -> float: return a.mean() - b.mean()"
   ]
  },
  {
   "cell_type": "code",
   "execution_count": 178,
   "metadata": {},
   "outputs": [
    {
     "data": {
      "text/plain": [
       "-0.22999999999999998"
      ]
     },
     "execution_count": 178,
     "metadata": {},
     "output_type": "execute_result"
    }
   ],
   "source": [
    "test_statistic = get_mean_test_statistic(samples0, samples1); test_statistic"
   ]
  },
  {
   "cell_type": "markdown",
   "metadata": {},
   "source": [
    "To compute the p-value we need to compute the distribution of bootstrapped distributions and their test statistics. `n_tests` defines the number of bootstrappings to perform"
   ]
  },
  {
   "cell_type": "code",
   "execution_count": 179,
   "metadata": {},
   "outputs": [],
   "source": [
    "n_tests = 1000"
   ]
  },
  {
   "cell_type": "code",
   "execution_count": 180,
   "metadata": {},
   "outputs": [],
   "source": [
    "# export\n",
    "def get_boot_test_statistics(a:np.ndarray, b: np.ndarray, n_tests:int=100, \n",
    "                             test_statistic_fun:callable=get_mean_test_statistic,\n",
    "                             mode=\"merge+shuffle\"):\n",
    "    \"Computes bootstrapped test statistics using shuffling\"\n",
    "    test_statistic_boot = np.zeros(n_tests)\n",
    "    if mode == \"merge+shuffle\":\n",
    "        samples = np.hstack((a, b))\n",
    "        n = len(a)\n",
    "        for i in range(n_tests):\n",
    "            np.random.shuffle(samples)\n",
    "            _a, _b = samples[:n], samples[n:]\n",
    "            test_statistic_boot[i] = test_statistic_fun(_a, _b)\n",
    "    elif mode == \"shuffle\":\n",
    "        for i in range(n_tests):\n",
    "            _a, _b = np.random.choice(a, size=len(a)), np.random.choice(b, size=len(b))\n",
    "            test_statistic_boot[i] = test_statistic_fun(_a, _b)\n",
    "    else:\n",
    "        raise NotImplementedError(\"`mode` needs to be 'merge+shuffle' or 'shuffle'.\")\n",
    "    return test_statistic_boot"
   ]
  },
  {
   "cell_type": "code",
   "execution_count": 181,
   "metadata": {},
   "outputs": [
    {
     "name": "stdout",
     "output_type": "stream",
     "text": [
      "Wall time: 29 ms\n"
     ]
    }
   ],
   "source": [
    "%%time\n",
    "test_statistic_boot = get_boot_test_statistics(samples0, samples1, n_tests=n_tests)"
   ]
  },
  {
   "cell_type": "code",
   "execution_count": 182,
   "metadata": {},
   "outputs": [],
   "source": [
    "# export\n",
    "def get_p_value(x:np.ndarray, test_statistic:float):\n",
    "    \"Computes the p-value using `x` as generated from `get_boot_test_statistics` and the original `test_statistic`\"\n",
    "    kde = stats.gaussian_kde(x)\n",
    "    p_val = kde.integrate_box_1d(-np.inf, test_statistic)\n",
    "    if p_val > .5:\n",
    "        p_val = 1. - p_val\n",
    "    return p_val"
   ]
  },
  {
   "cell_type": "code",
   "execution_count": 183,
   "metadata": {},
   "outputs": [
    {
     "name": "stdout",
     "output_type": "stream",
     "text": [
      "Wall time: 975 µs\n"
     ]
    },
    {
     "data": {
      "text/plain": [
       "0.00013503295330145114"
      ]
     },
     "execution_count": 183,
     "metadata": {},
     "output_type": "execute_result"
    }
   ],
   "source": [
    "%%time\n",
    "p_val = get_p_value(test_statistic_boot, test_statistic); p_val"
   ]
  },
  {
   "cell_type": "markdown",
   "metadata": {},
   "source": [
    "Visualizing where the test statistic of the observation lies relative to the bootstraps for the evaluation of the significance"
   ]
  },
  {
   "cell_type": "code",
   "execution_count": 184,
   "metadata": {},
   "outputs": [],
   "source": [
    "#export\n",
    "def plot_hist_with_kde_for_hypothesis_test(test_statistic_boot:np.ndarray, p_val:float, \n",
    "                                           left_ext:float=.5, right_ext:float=.5):\n",
    "    ax = basic_stats.plot_hist_with_kde(test_statistic_boot, \n",
    "                                   plot_params={\"xlabel\": \"test statistic\", \"ylabel\": \"frequency\", \n",
    "                                                \"title\": f\"Sampled test statistics: p-value = {p_val:.4f}\"},\n",
    "                                   fig_params={\"figsize\": (7,7)}, left_ext=left_ext, right_ext=right_ext)\n",
    "    ax.plot([test_statistic, test_statistic], ax.get_ylim(), marker=\"o\", color=\"red\", label=\"actual test statistic\")\n",
    "    ax.legend(loc=\"best\")\n",
    "    return ax"
   ]
  },
  {
   "cell_type": "code",
   "execution_count": 185,
   "metadata": {},
   "outputs": [
    {
     "data": {
      "image/png": "[encoded data removed]",
      "text/plain": [
       "<Figure size 504x504 with 1 Axes>"
      ]
     },
     "metadata": {
      "needs_background": "light"
     },
     "output_type": "display_data"
    }
   ],
   "source": [
    "ax = plot_hist_with_kde_for_hypothesis_test(test_statistic_boot, p_val, left_ext=.5, right_ext=.5)\n",
    "plt.show()"
   ]
  },
  {
   "cell_type": "markdown",
   "metadata": {},
   "source": [
    "### Discrete observables - $n$-sided dice $p$s"
   ]
  },
  {
   "cell_type": "markdown",
   "metadata": {},
   "source": [
    "Comparing fairness of dice using the $\\chi^2$ test statistic"
   ]
  },
  {
   "cell_type": "code",
   "execution_count": 186,
   "metadata": {},
   "outputs": [
    {
     "data": {
      "text/plain": [
       "(array([4, 3, 0, 3, 0]), array([0, 0, 0, 3, 3]))"
      ]
     },
     "execution_count": 186,
     "metadata": {},
     "output_type": "execute_result"
    }
   ],
   "source": [
    "pop0_gen = stats.rv_discrete(values=(np.arange(5), [.2, .2, .2, .2, .2]))\n",
    "pop1_gen = stats.rv_discrete(values=(np.arange(5), [.2, .25, .15, .2, .2]))\n",
    "\n",
    "n0 = 1000\n",
    "n1 = 120\n",
    "\n",
    "samples0 = pop0_gen.rvs(size=n0)\n",
    "samples1 = pop1_gen.rvs(size=n0)\n",
    "samples0[:5], samples1[:5]"
   ]
  },
  {
   "cell_type": "code",
   "execution_count": 187,
   "metadata": {},
   "outputs": [
    {
     "data": {
      "text/plain": [
       "0    220\n",
       "1    215\n",
       "2    183\n",
       "3    209\n",
       "4    173\n",
       "dtype: int64"
      ]
     },
     "execution_count": 187,
     "metadata": {},
     "output_type": "execute_result"
    }
   ],
   "source": [
    "pd.Series(samples0).value_counts().sort_index()"
   ]
  },
  {
   "cell_type": "code",
   "execution_count": 188,
   "metadata": {},
   "outputs": [],
   "source": [
    "#export\n",
    "def get_chi2_test_statistic(a:np.ndarray, b: np.ndarray) -> float: \n",
    "    \"`b` is the reference\"\n",
    "    freq_e = pd.Series(b).value_counts(normalize=True).sort_index()\n",
    "    freq_o = pd.Series(a).value_counts(normalize=True).sort_index()\n",
    "    return ((freq_o - freq_e)**2/freq_e).sum()"
   ]
  },
  {
   "cell_type": "code",
   "execution_count": 189,
   "metadata": {},
   "outputs": [
    {
     "data": {
      "text/plain": [
       "0.007944368251113451"
      ]
     },
     "execution_count": 189,
     "metadata": {},
     "output_type": "execute_result"
    }
   ],
   "source": [
    "test_statistic = get_chi2_test_statistic(samples1, samples0); test_statistic"
   ]
  },
  {
   "cell_type": "code",
   "execution_count": 190,
   "metadata": {},
   "outputs": [],
   "source": [
    "#hide\n",
    "n_tests = 1000"
   ]
  },
  {
   "cell_type": "code",
   "execution_count": 191,
   "metadata": {},
   "outputs": [
    {
     "name": "stdout",
     "output_type": "stream",
     "text": [
      "Wall time: 2.75 s\n"
     ]
    }
   ],
   "source": [
    "%%time\n",
    "test_statistic_boot = get_boot_test_statistics(samples1, samples0, n_tests=n_tests, \n",
    "                                               test_statistic_fun=get_chi2_test_statistic)"
   ]
  },
  {
   "cell_type": "code",
   "execution_count": 192,
   "metadata": {},
   "outputs": [
    {
     "name": "stdout",
     "output_type": "stream",
     "text": [
      "Wall time: 0 ns\n"
     ]
    },
    {
     "data": {
      "text/plain": [
       "0.4166074247279987"
      ]
     },
     "execution_count": 192,
     "metadata": {},
     "output_type": "execute_result"
    }
   ],
   "source": [
    "%%time\n",
    "p_val = get_p_value(test_statistic_boot, test_statistic); p_val"
   ]
  },
  {
   "cell_type": "code",
   "execution_count": 157,
   "metadata": {},
   "outputs": [
    {
     "data": {
      "image/png": "[encoded data removed]",
      "text/plain": [
       "<Figure size 504x504 with 1 Axes>"
      ]
     },
     "metadata": {
      "needs_background": "light"
     },
     "output_type": "display_data"
    }
   ],
   "source": [
    "ax = plot_hist_with_kde_for_hypothesis_test(test_statistic_boot, p_val, left_ext=.5, right_ext=.5)\n",
    "plt.show()"
   ]
  },
  {
   "cell_type": "markdown",
   "metadata": {},
   "source": [
    "### Continuous - correlation"
   ]
  },
  {
   "cell_type": "markdown",
   "metadata": {},
   "source": [
    "Testing how significant the ranked Spearman correlation of two variables is"
   ]
  },
  {
   "cell_type": "code",
   "execution_count": 193,
   "metadata": {},
   "outputs": [
    {
     "data": {
      "text/plain": [
       "(array([-1.44618272, -2.17776027, -0.63076426, -0.05349711, -2.01605591]),\n",
       " array([-3.42547504, -2.42894734, -0.85560307, -0.04791731, -1.3396359 ]))"
      ]
     },
     "execution_count": 193,
     "metadata": {},
     "output_type": "execute_result"
    }
   ],
   "source": [
    "x_noise = stats.norm(loc=0, scale=1.)\n",
    "y_noise = stats.norm(loc=0, scale=1.)\n",
    "\n",
    "n = 100\n",
    "\n",
    "samples0 = np.linspace(-1,1,n) + x_noise.rvs(size=n)\n",
    "samples1 = samples0 + y_noise.rvs(size=n)\n",
    "samples0[:5], samples1[:5]"
   ]
  },
  {
   "cell_type": "code",
   "execution_count": 194,
   "metadata": {},
   "outputs": [
    {
     "data": {
      "image/png": "[encoded data removed]",
      "text/plain": [
       "<Figure size 432x288 with 1 Axes>"
      ]
     },
     "metadata": {
      "needs_background": "light"
     },
     "output_type": "display_data"
    }
   ],
   "source": [
    "plt.scatter(samples0, samples1)\n",
    "plt.show()"
   ]
  },
  {
   "cell_type": "code",
   "execution_count": 195,
   "metadata": {},
   "outputs": [],
   "source": [
    "# export\n",
    "def get_spearmanr_test_statistic(a:np.ndarray, b:np.ndarray) -> float:\n",
    "    \"Computes the ranked Spearman correlation\"\n",
    "    assert len(a) == len(b)\n",
    "    return stats.spearmanr(a, b).correlation"
   ]
  },
  {
   "cell_type": "code",
   "execution_count": 196,
   "metadata": {},
   "outputs": [
    {
     "data": {
      "text/plain": [
       "0.773105310531053"
      ]
     },
     "execution_count": 196,
     "metadata": {},
     "output_type": "execute_result"
    }
   ],
   "source": [
    "test_statistic = get_spearmanr_test_statistic(samples1, samples0); test_statistic"
   ]
  },
  {
   "cell_type": "code",
   "execution_count": 197,
   "metadata": {},
   "outputs": [],
   "source": [
    "#hide\n",
    "n_tests = 1000"
   ]
  },
  {
   "cell_type": "code",
   "execution_count": 198,
   "metadata": {},
   "outputs": [
    {
     "name": "stdout",
     "output_type": "stream",
     "text": [
      "Wall time: 551 ms\n"
     ]
    }
   ],
   "source": [
    "%%time\n",
    "test_statistic_boot = get_boot_test_statistics(samples1, samples0, n_tests=n_tests, \n",
    "                                               test_statistic_fun=get_spearmanr_test_statistic)"
   ]
  },
  {
   "cell_type": "code",
   "execution_count": 199,
   "metadata": {},
   "outputs": [
    {
     "name": "stdout",
     "output_type": "stream",
     "text": [
      "Wall time: 0 ns\n"
     ]
    },
    {
     "data": {
      "text/plain": [
       "-4.440892098500626e-16"
      ]
     },
     "execution_count": 199,
     "metadata": {},
     "output_type": "execute_result"
    }
   ],
   "source": [
    "%%time\n",
    "p_val = get_p_value(test_statistic_boot, test_statistic); p_val"
   ]
  },
  {
   "cell_type": "code",
   "execution_count": 200,
   "metadata": {},
   "outputs": [
    {
     "data": {
      "image/png": "[encoded data removed]",
      "text/plain": [
       "<Figure size 504x504 with 1 Axes>"
      ]
     },
     "metadata": {
      "needs_background": "light"
     },
     "output_type": "display_data"
    }
   ],
   "source": [
    "ax = plot_hist_with_kde_for_hypothesis_test(test_statistic_boot, p_val, left_ext=.5, right_ext=.5)\n",
    "plt.show()"
   ]
  },
  {
   "cell_type": "markdown",
   "metadata": {},
   "source": [
    "## NSFG data"
   ]
  },
  {
   "cell_type": "markdown",
   "metadata": {},
   "source": [
    "Computing if the weight of newborns to first time mothers is significantly different to mothers with 1+ children using `get_mean_test_statistic`."
   ]
  },
  {
   "cell_type": "code",
   "execution_count": 201,
   "metadata": {},
   "outputs": [
    {
     "data": {
      "text/html": [
       "<div>\n",
       "<style scoped>\n",
       "    .dataframe tbody tr th:only-of-type {\n",
       "        vertical-align: middle;\n",
       "    }\n",
       "\n",
       "    .dataframe tbody tr th {\n",
       "        vertical-align: top;\n",
       "    }\n",
       "\n",
       "    .dataframe thead th {\n",
       "        text-align: right;\n",
       "    }\n",
       "</style>\n",
       "<table border=\"1\" class=\"dataframe\">\n",
       "  <thead>\n",
       "    <tr style=\"text-align: right;\">\n",
       "      <th></th>\n",
       "      <th>caseid</th>\n",
       "      <th>prglngth</th>\n",
       "      <th>outcome</th>\n",
       "      <th>pregordr</th>\n",
       "      <th>birthord</th>\n",
       "      <th>birthwgt_lb</th>\n",
       "      <th>birthwgt_oz</th>\n",
       "      <th>agepreg</th>\n",
       "      <th>finalwgt</th>\n",
       "      <th>totalwgt_lb</th>\n",
       "      <th>totalwgt_kg</th>\n",
       "    </tr>\n",
       "  </thead>\n",
       "  <tbody>\n",
       "    <tr>\n",
       "      <th>0</th>\n",
       "      <td>1</td>\n",
       "      <td>39</td>\n",
       "      <td>1</td>\n",
       "      <td>1</td>\n",
       "      <td>1.0</td>\n",
       "      <td>8.0</td>\n",
       "      <td>13.0</td>\n",
       "      <td>33.16</td>\n",
       "      <td>6448.271112</td>\n",
       "      <td>8.8125</td>\n",
       "      <td>3.997279</td>\n",
       "    </tr>\n",
       "    <tr>\n",
       "      <th>1</th>\n",
       "      <td>1</td>\n",
       "      <td>39</td>\n",
       "      <td>1</td>\n",
       "      <td>2</td>\n",
       "      <td>2.0</td>\n",
       "      <td>7.0</td>\n",
       "      <td>14.0</td>\n",
       "      <td>39.25</td>\n",
       "      <td>6448.271112</td>\n",
       "      <td>7.8750</td>\n",
       "      <td>3.572037</td>\n",
       "    </tr>\n",
       "    <tr>\n",
       "      <th>2</th>\n",
       "      <td>2</td>\n",
       "      <td>39</td>\n",
       "      <td>1</td>\n",
       "      <td>1</td>\n",
       "      <td>1.0</td>\n",
       "      <td>9.0</td>\n",
       "      <td>2.0</td>\n",
       "      <td>14.33</td>\n",
       "      <td>12999.542264</td>\n",
       "      <td>9.1250</td>\n",
       "      <td>4.139027</td>\n",
       "    </tr>\n",
       "    <tr>\n",
       "      <th>3</th>\n",
       "      <td>2</td>\n",
       "      <td>39</td>\n",
       "      <td>1</td>\n",
       "      <td>2</td>\n",
       "      <td>2.0</td>\n",
       "      <td>7.0</td>\n",
       "      <td>0.0</td>\n",
       "      <td>17.83</td>\n",
       "      <td>12999.542264</td>\n",
       "      <td>7.0000</td>\n",
       "      <td>3.175144</td>\n",
       "    </tr>\n",
       "    <tr>\n",
       "      <th>4</th>\n",
       "      <td>2</td>\n",
       "      <td>39</td>\n",
       "      <td>1</td>\n",
       "      <td>3</td>\n",
       "      <td>3.0</td>\n",
       "      <td>6.0</td>\n",
       "      <td>3.0</td>\n",
       "      <td>18.33</td>\n",
       "      <td>12999.542264</td>\n",
       "      <td>6.1875</td>\n",
       "      <td>2.806601</td>\n",
       "    </tr>\n",
       "  </tbody>\n",
       "</table>\n",
       "</div>"
      ],
      "text/plain": [
       "   caseid  prglngth  outcome  pregordr  birthord  birthwgt_lb  birthwgt_oz  \\\n",
       "0       1        39        1         1       1.0          8.0         13.0   \n",
       "1       1        39        1         2       2.0          7.0         14.0   \n",
       "2       2        39        1         1       1.0          9.0          2.0   \n",
       "3       2        39        1         2       2.0          7.0          0.0   \n",
       "4       2        39        1         3       3.0          6.0          3.0   \n",
       "\n",
       "   agepreg      finalwgt  totalwgt_lb  totalwgt_kg  \n",
       "0    33.16   6448.271112       8.8125     3.997279  \n",
       "1    39.25   6448.271112       7.8750     3.572037  \n",
       "2    14.33  12999.542264       9.1250     4.139027  \n",
       "3    17.83  12999.542264       7.0000     3.175144  \n",
       "4    18.33  12999.542264       6.1875     2.806601  "
      ]
     },
     "execution_count": 201,
     "metadata": {},
     "output_type": "execute_result"
    }
   ],
   "source": [
    "df = pd.read_csv(nsfg.clean_file_path)\n",
    "df.head()"
   ]
  },
  {
   "cell_type": "markdown",
   "metadata": {},
   "source": [
    "Grouping samples into first newborn (`first`) and 2nd or higher baby count (`other`)"
   ]
  },
  {
   "cell_type": "code",
   "execution_count": 70,
   "metadata": {},
   "outputs": [
    {
     "data": {
      "text/plain": [
       "(3368, 5780)"
      ]
     },
     "execution_count": 70,
     "metadata": {},
     "output_type": "execute_result"
    }
   ],
   "source": [
    "live = df.loc[df[\"outcome\"]==1, :]\n",
    "first, other = live.loc[live[\"pregordr\"]==1, :], live.loc[live[\"pregordr\"]!=1, :]\n",
    "len(first), len(other)"
   ]
  },
  {
   "cell_type": "markdown",
   "metadata": {},
   "source": [
    "Collecting the weights and cleaning"
   ]
  },
  {
   "cell_type": "code",
   "execution_count": 77,
   "metadata": {},
   "outputs": [
    {
     "name": "stdout",
     "output_type": "stream",
     "text": [
      "[3.9972795 4.139027  3.8838815 3.4302895 3.5436875] [3.572037  3.175144  2.8066005 4.3374735 3.798833 ]\n"
     ]
    },
    {
     "data": {
      "text/plain": [
       "-0.047628365605402845"
      ]
     },
     "execution_count": 77,
     "metadata": {},
     "output_type": "execute_result"
    }
   ],
   "source": [
    "col = \"totalwgt_kg\"  # prglngth = pregnancy length, totalwgt_kg = total weight of the newborn\n",
    "samples0, samples1 = first[col].dropna().values, other[col].dropna().values  "
   ]
  },
  {
   "cell_type": "markdown",
   "metadata": {},
   "source": [
    "Computing the test statistic over the original dataset"
   ]
  },
  {
   "cell_type": "code",
   "execution_count": null,
   "metadata": {},
   "outputs": [],
   "source": [
    "test_statistic = get_mean_test_statistic(samples0, samples1); test_statistic"
   ]
  },
  {
   "cell_type": "markdown",
   "metadata": {},
   "source": [
    "Mixing up the dataset computing test statistics"
   ]
  },
  {
   "cell_type": "code",
   "execution_count": 202,
   "metadata": {},
   "outputs": [
    {
     "name": "stdout",
     "output_type": "stream",
     "text": [
      "Wall time: 26 ms\n"
     ]
    }
   ],
   "source": [
    "%%time\n",
    "test_statistic_boot = get_boot_test_statistics(samples0, samples1, n_tests=n_tests)"
   ]
  },
  {
   "cell_type": "code",
   "execution_count": 203,
   "metadata": {},
   "outputs": [
    {
     "name": "stdout",
     "output_type": "stream",
     "text": [
      "Wall time: 1.03 ms\n"
     ]
    },
    {
     "data": {
      "text/plain": [
       "1.0136336214827679e-13"
      ]
     },
     "execution_count": 203,
     "metadata": {},
     "output_type": "execute_result"
    }
   ],
   "source": [
    "%%time\n",
    "p_val = get_p_value(test_statistic_boot, test_statistic); p_val"
   ]
  },
  {
   "cell_type": "code",
   "execution_count": 204,
   "metadata": {},
   "outputs": [
    {
     "data": {
      "image/png": "[encoded data removed]",
      "text/plain": [
       "<Figure size 504x504 with 1 Axes>"
      ]
     },
     "metadata": {
      "needs_background": "light"
     },
     "output_type": "display_data"
    }
   ],
   "source": [
    "ax = plot_hist_with_kde_for_hypothesis_test(test_statistic_boot, p_val, left_ext=.5, right_ext=.5)\n",
    "plt.show()"
   ]
  },
  {
   "cell_type": "code",
   "execution_count": null,
   "metadata": {},
   "outputs": [],
   "source": []
  }
 ],
 "metadata": {
  "kernelspec": {
   "display_name": "Python [conda env:py37_kaggle]",
   "language": "python",
   "name": "conda-env-py37_kaggle-py"
  },
  "language_info": {
   "codemirror_mode": {
    "name": "ipython",
    "version": 3
   },
   "file_extension": ".py",
   "mimetype": "text/x-python",
   "name": "python",
   "nbconvert_exporter": "python",
   "pygments_lexer": "ipython3",
   "version": "3.7.6"
  },
  "toc": {
   "base_numbering": 1,
   "nav_menu": {
    "height": "139.333px",
    "width": "227.667px"
   },
   "number_sections": true,
   "sideBar": true,
   "skip_h1_title": false,
   "title_cell": "Table of Contents",
   "title_sidebar": "Contents",
   "toc_cell": false,
   "toc_position": {},
   "toc_section_display": true,
   "toc_window_display": false
  }
 },
 "nbformat": 4,
 "nbformat_minor": 2
}
